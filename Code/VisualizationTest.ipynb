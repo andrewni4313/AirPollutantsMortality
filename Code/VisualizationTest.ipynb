{
 "cells": [
  {
   "cell_type": "code",
   "execution_count": null,
   "id": "4a71c057-38fd-4516-a9cf-cd7b10584979",
   "metadata": {},
   "outputs": [],
   "source": [
    "# Packages\n",
    "import json\n",
    "import numpy as np\n",
    "import pandas as pd\n",
    "import plotly.express as px\n",
    "from urllib.request import urlopen\n",
    "import json"
   ]
  },
  {
   "cell_type": "code",
   "execution_count": null,
   "id": "75f3ce75-2046-47cc-b688-aaf680038ca1",
   "metadata": {},
   "outputs": [],
   "source": [
    "# GeoJSON\n",
    "with urlopen('https://raw.githubusercontent.com/plotly/datasets/master/geojson-counties-fips.json') as response:\n",
    "    counties = json.load(response)\n",
    "counties[\"features\"][0]"
   ]
  },
  {
   "cell_type": "code",
   "execution_count": null,
   "id": "86a75602-ddd0-483a-85ee-ae00f9a190fa",
   "metadata": {
    "scrolled": false
   },
   "outputs": [],
   "source": [
    "# Import Data\n",
    "df = pd.read_csv('Results/AllData.csv', converters = {'FIPS': str})\n",
    "df"
   ]
  },
  {
   "cell_type": "code",
   "execution_count": null,
   "id": "37cfaf98-4a26-4d3c-b16f-f5c27870650b",
   "metadata": {},
   "outputs": [],
   "source": [
    "%%time\n",
    "# Graph\n",
    "fig = px.choropleth(df, geojson=counties, locations='FIPS', color='Alzheimers Deaths',\n",
    "                            color_continuous_scale=\"Viridis\",\n",
    "                            scope=\"usa\", \n",
    "                            animation_frame=\"Year\", animation_group=\"County\"\n",
    "                          )\n",
    "fig.update_layout(margin={\"r\":0,\"t\":0,\"l\":0,\"b\":0})\n",
    "fig.show()\n",
    "#fig.write_html(\"path/to/file.html\")"
   ]
  },
  {
   "cell_type": "code",
   "execution_count": null,
   "id": "0e7bd945",
   "metadata": {},
   "outputs": [],
   "source": [
    "%%time\n",
    "fig = px.choropleth_mapbox(df, geojson=counties, locations='FIPS', color='Alzheimers Deaths',\n",
    "                           color_continuous_scale=\"Viridis\",\n",
    "                           mapbox_style=\"carto-positron\",\n",
    "                           zoom=3, center = {\"lat\": 37.0902, \"lon\": -95.7129},\n",
    "                           opacity=0.5, \n",
    "                           animation_frame=\"Year\", animation_group=\"County\"\n",
    "                          )\n",
    "fig.update_layout(margin={\"r\":0,\"t\":0,\"l\":0,\"b\":0})\n",
    "fig.show()"
   ]
  },
  {
   "cell_type": "code",
   "execution_count": null,
   "id": "21d59047",
   "metadata": {},
   "outputs": [],
   "source": [
    "%%time\n",
    "\n",
    "fig = px.density_mapbox(df, lat='Latitude', lon='Longitude', z='Alzheimers Deaths', radius=25,\n",
    "                        center = {\"lat\": 37.0902, \"lon\": -95.7129}, zoom=3,\n",
    "                        mapbox_style=\"carto-positron\", \n",
    "                        animation_frame=\"Year\", animation_group=\"County\"\n",
    "                       )\n",
    "fig.show()"
   ]
  },
  {
   "cell_type": "code",
   "execution_count": null,
   "id": "4e75b99d",
   "metadata": {},
   "outputs": [],
   "source": [
    "%%time\n",
    "fig = px.scatter_geo(df.dropna(subset=['Alzheimers Deaths']).sort_values(by=['Year']), geojson=counties, locations='FIPS', \n",
    "                        color='Alzheimers Deaths', size='Alzheimers Deaths',\n",
    "                        scope=\"usa\", size_max=50,\n",
    "                        animation_frame=\"Year\", animation_group=\"County\"\n",
    "                    )\n",
    "fig.update_layout(margin={\"r\":0,\"t\":0,\"l\":0,\"b\":0})\n",
    "fig.show()"
   ]
  },
  {
   "cell_type": "code",
   "execution_count": null,
   "id": "82717f61",
   "metadata": {},
   "outputs": [],
   "source": [
    "%%time\n",
    "fig = px.histogram(df, x='Alzheimers Deaths', y='Alzheimers Deaths', marginal='box',\n",
    "                   hover_data=df.columns)\n",
    "fig.show()"
   ]
  }
 ],
 "metadata": {
  "kernelspec": {
   "display_name": "Python 3 (ipykernel)",
   "language": "python",
   "name": "python3"
  },
  "language_info": {
   "codemirror_mode": {
    "name": "ipython",
    "version": 3
   },
   "file_extension": ".py",
   "mimetype": "text/x-python",
   "name": "python",
   "nbconvert_exporter": "python",
   "pygments_lexer": "ipython3",
   "version": "3.10.1"
  }
 },
 "nbformat": 4,
 "nbformat_minor": 5
}
